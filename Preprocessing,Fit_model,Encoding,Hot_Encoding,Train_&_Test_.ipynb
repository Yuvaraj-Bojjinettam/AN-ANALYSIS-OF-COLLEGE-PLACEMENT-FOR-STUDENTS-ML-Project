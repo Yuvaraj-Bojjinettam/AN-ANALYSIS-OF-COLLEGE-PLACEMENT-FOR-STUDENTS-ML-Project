{
  "nbformat": 4,
  "nbformat_minor": 0,
  "metadata": {
    "colab": {
      "provenance": [],
      "authorship_tag": "ABX9TyPI/D4vpeHyBCwRmk9u/GNV"
    },
    "kernelspec": {
      "name": "python3",
      "display_name": "Python 3"
    },
    "language_info": {
      "name": "python"
    }
  },
  "cells": [
    {
      "cell_type": "code",
      "execution_count": 2,
      "metadata": {
        "colab": {
          "base_uri": "https://localhost:8080/"
        },
        "id": "IsKmcVX-WM2h",
        "outputId": "8a38ac08-2dba-44aa-cddd-fa7dac78c7ec"
      },
      "outputs": [
        {
          "output_type": "stream",
          "name": "stdout",
          "text": [
            "      Age  Gender                         Stream  Internships  CGPA  Hostel  \\\n",
            "0      22    Male  Electronics And Communication            1     8       1   \n",
            "1      21  Female               Computer Science            0     7       1   \n",
            "2      22  Female         Information Technology            1     6       0   \n",
            "3      21    Male         Information Technology            0     8       0   \n",
            "4      22    Male                     Mechanical            0     8       1   \n",
            "...   ...     ...                            ...          ...   ...     ...   \n",
            "2961   23    Male         Information Technology            0     7       0   \n",
            "2962   23    Male                     Mechanical            1     7       1   \n",
            "2963   22    Male         Information Technology            1     7       0   \n",
            "2964   22    Male               Computer Science            1     7       0   \n",
            "2965   23    Male                          Civil            0     8       0   \n",
            "\n",
            "      HistoryOfBacklogs  PlacedOrNot  \n",
            "0                     1            1  \n",
            "1                     1            1  \n",
            "2                     0            1  \n",
            "3                     1            1  \n",
            "4                     0            1  \n",
            "...                 ...          ...  \n",
            "2961                  0            0  \n",
            "2962                  0            0  \n",
            "2963                  0            0  \n",
            "2964                  0            0  \n",
            "2965                  0            1  \n",
            "\n",
            "[2966 rows x 8 columns]\n"
          ]
        }
      ],
      "source": [
        "#Project 1\n",
        "#AN ANALYSIS OF COLLEGE PLACEMENT FOR STUDENTS\n",
        "import pandas as pd\n",
        "import numpy as np\n",
        "import matplotlib.pyplot as plt\n",
        "import seaborn as sns\n",
        "import plotly.express as px\n",
        "# Load the Dataset\n",
        "dataset= pd.read_csv('/content/collegePlace.csv')\n",
        "print(dataset)\n",
        "\n",
        "#Appendix II\n",
        "from sklearn.preprocessing import MinMaxScaler, RobustScaler, LabelEncoder\n",
        "from sklearn.impute import SimpleImputer, KNNImputer\n",
        "# machine learning task\n",
        "from sklearn.model_selection import train_test_split, GridSearchCV, cross_val_score\n",
        "# import pipeline\n",
        "from sklearn.pipeline import Pipeline\n",
        "# For classification task\n",
        "from sklearn.linear_model import LogisticRegression\n",
        "from sklearn.neighbors import KNeighborsClassifier\n",
        "from sklearn.svm import SVC\n",
        "from sklearn.tree import DecisionTreeClassifier\n",
        "from sklearn.ensemble import RandomForestClassifier, RandomForestRegressor, GradientBoostingClassifier\n",
        "from sklearn.preprocessing import StandardScaler\n",
        "from sklearn.metrics import accuracy_score\n",
        "# Preprocess the data: Encode categorical variables\n",
        "data_encoded = pd.get_dummies(dataset, drop_first=True)\n",
        "# Select variables for encoding\n",
        "X_columns = ['Age', 'Gender', 'Stream', 'Internships', 'CGPA', 'Hostel','HistoryOfBacklogs']\n",
        "# Set the target variable\n",
        "y_column = 'PlacedOrNot'\n",
        "# Split the dataset into features (X) and labels (y)\n",
        "X = dataset[X_columns]\n",
        "y = dataset[y_column]\n",
        "# Preprocess the data: Encode categorical variables\n",
        "data_encoded = pd.get_dummies(dataset, drop_first=True)\n",
        "# Split the dataset into features (X) and labels (y)\n",
        "X = data_encoded.drop(columns=['PlacedOrNot'])\n",
        "y = data_encoded['PlacedOrNot']\n",
        "# Perform one-hot encoding for all categorical columns\n",
        "df_encoded = pd.get_dummies(dataset, drop_first=True)\n",
        "from sklearn import preprocessing\n",
        "# Scale features\n",
        "scaler = preprocessing.MinMaxScaler()\n",
        "X_scaled = scaler.fit_transform(X)\n",
        "from sklearn.preprocessing import LabelEncoder\n",
        "le = LabelEncoder()\n",
        "dataset.Gender = le.fit_transform(dataset.Gender)\n",
        "dataset.Stream = le.fit_transform(dataset.Stream)\n",
        "# Initialize LabelEncoder\n",
        "le = LabelEncoder()\n",
        "# Encode 'Gender' column\n",
        "dataset['Gender'] = le.fit_transform(dataset['Gender'])\n",
        "# Train-test split\n",
        "X_train, X_test, y_train, y_test = train_test_split(X, y, test_size=0.2)\n",
        "scaler = preprocessing.MinMaxScaler()\n",
        "x = scaler.fit_transform(X)\n",
        "# Standardize features\n",
        "scaler = StandardScaler()\n",
        "# Scale the features\n",
        "scaler = MinMaxScaler()\n",
        "X = scaler.fit_transform(X)"
      ]
    }
  ]
}